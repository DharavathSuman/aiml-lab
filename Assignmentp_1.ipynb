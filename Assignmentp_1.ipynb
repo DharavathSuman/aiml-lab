{
  "nbformat": 4,
  "nbformat_minor": 0,
  "metadata": {
    "colab": {
      "provenance": [],
      "include_colab_link": true
    },
    "kernelspec": {
      "name": "python3",
      "display_name": "Python 3"
    },
    "language_info": {
      "name": "python"
    }
  },
  "cells": [
    {
      "cell_type": "markdown",
      "metadata": {
        "id": "view-in-github",
        "colab_type": "text"
      },
      "source": [
        "<a href=\"https://colab.research.google.com/github/DharavathSuman/aiml-lab/blob/main/Assignmentp_1.ipynb\" target=\"_parent\"><img src=\"https://colab.research.google.com/assets/colab-badge.svg\" alt=\"Open In Colab\"/></a>"
      ]
    },
    {
      "cell_type": "code",
      "execution_count": null,
      "metadata": {
        "colab": {
          "base_uri": "https://localhost:8080/"
        },
        "id": "7eZ3fHdtde6W",
        "outputId": "1e844751-5ad6-46fb-ccfb-d68fb811dfc7"
      },
      "outputs": [
        {
          "output_type": "stream",
          "name": "stdout",
          "text": [
            "HEllo\n"
          ]
        }
      ],
      "source": [
        "print(\"HEllo\")"
      ]
    },
    {
      "cell_type": "code",
      "source": [
        "print(\"aIML\")\n"
      ],
      "metadata": {
        "colab": {
          "base_uri": "https://localhost:8080/"
        },
        "id": "wbOP7v14d2Cw",
        "outputId": "651cc4c9-8502-4015-e864-3b12b2473d5f"
      },
      "execution_count": null,
      "outputs": [
        {
          "output_type": "stream",
          "name": "stdout",
          "text": [
            "aIML\n"
          ]
        }
      ]
    },
    {
      "cell_type": "code",
      "source": [
        "##Implement basic data structure using numpy and pandas\n",
        "##1.list operations\n",
        "list=[\"apple\",\"bananas\",\"oranges\",\"guava\"]\n",
        "print(list)\n",
        "print(list[0])\n",
        "print(list[3])\n",
        "list.append(\"pineapple\")\n",
        "print(list)\n",
        "list.insert(2,\"grapes\")\n",
        "print(list)\n",
        "list.extend([\"chennai\",\"goa\",\"kolkata\"])\n",
        "print(list)\n",
        "myList = [1, 2, 3, 4, 5, 6,\n",
        "        7, 8, 9, 10, 11, 12]\n",
        "myList.remove(6)\n",
        "print(\"\\nList after Removal of one element: \")\n",
        "print(myList)\n",
        "print(list)\n",
        "list.pop(2)\n",
        "print(list)\n",
        "List1 = ['G', 'E', 'E', 'K', 'f', 'F',\n",
        "        'j', 'R', 'k', 'E', 'f', 'K', 'S']\n",
        "print(\"Initial List: \")\n",
        "print(List1)\n",
        "Sliced_List = List1[3:8]\n",
        "print(\"\\nSlicing elements in a range 3-8: \")\n",
        "print(Sliced_List)\n",
        "\n",
        "\n",
        "\n",
        "\n"
      ],
      "metadata": {
        "colab": {
          "base_uri": "https://localhost:8080/"
        },
        "id": "XtLDnt1PecXP",
        "outputId": "ee932c3f-ebe0-435b-c8ea-7a213e2fd209"
      },
      "execution_count": null,
      "outputs": [
        {
          "output_type": "stream",
          "name": "stdout",
          "text": [
            "['apple', 'bananas', 'oranges', 'guava']\n",
            "apple\n",
            "guava\n",
            "['apple', 'bananas', 'oranges', 'guava', 'pineapple']\n",
            "['apple', 'bananas', 'grapes', 'oranges', 'guava', 'pineapple']\n",
            "['apple', 'bananas', 'grapes', 'oranges', 'guava', 'pineapple', 'chennai', 'goa', 'kolkata']\n",
            "\n",
            "List after Removal of one element: \n",
            "[1, 2, 3, 4, 5, 7, 8, 9, 10, 11, 12]\n",
            "['apple', 'bananas', 'grapes', 'oranges', 'guava', 'pineapple', 'chennai', 'goa', 'kolkata']\n",
            "['apple', 'bananas', 'oranges', 'guava', 'pineapple', 'chennai', 'goa', 'kolkata']\n",
            "Initial List: \n",
            "['G', 'E', 'E', 'K', 'f', 'F', 'j', 'R', 'k', 'E', 'f', 'K', 'S']\n",
            "\n",
            "Slicing elements in a range 3-8: \n",
            "['K', 'f', 'F', 'j', 'R']\n"
          ]
        }
      ]
    },
    {
      "cell_type": "code",
      "source": [
        "##Array operations\n",
        "import numpy as np\n",
        "arr = np.array([1, 2, 3, 4, 5])\n",
        "print(arr)\n",
        "print(type(arr))\n",
        "arr = np.array(42)\n",
        "print(arr)\n",
        "#1D array\n",
        "arr = np.array([1, 2, 3, 4, 5])\n",
        "print(arr)\n",
        "#2D array\n",
        "arr = np.array([[1, 2, 3], [4, 5, 6]])\n",
        "print(arr)\n",
        "#3D array\n",
        "arr = np.array([[[1, 2, 3], [4, 5, 6]], [[1, 2, 3], [4, 5, 6]]])\n",
        "print(arr)\n",
        "arr = np.array([1, 2, 3, 4])\n",
        "print(arr[0])\n",
        "arr = np.array([[1,2,3,4,5], [6,7,8,9,10]])\n",
        "print('Last element from 2nd dim: ', arr[1, -1])\n",
        "arr = np.array([1, 2, 3, 4, 5, 6, 7])\n",
        "print(arr[1:5])\n",
        "arr = np.array([1, 2, 3, 4, 5])\n",
        "x = arr.copy()\n",
        "arr[0] = 42\n",
        "print(arr)\n",
        "print(x)\n",
        "arr = np.array([1, 2, 3, 4, 5])\n",
        "x = arr.view()\n",
        "arr[0] = 42\n",
        "print(arr)\n",
        "print(x)\n",
        "arr = np.array([1, 2, 3, 4, 5])\n",
        "x = arr.copy()\n",
        "y = arr.view()\n",
        "print(x.base)\n",
        "print(y.base)\n",
        "arr = np.array([[1, 2, 3, 4], [5, 6, 7, 8]])\n",
        "print(arr.shape)\n",
        "arr = np.array([1, 2, 3, 4, 5, 6, 7, 8])\n",
        "x = np.where(arr%2 == 0)\n",
        "print(x)\n",
        "arr = np.array([3, 2, 0, 1])\n",
        "print(np.sort(arr))\n",
        "a = np.array([5, 72, 13, 100])\n",
        "b = np.array([2, 5, 10, 30])\n",
        "# Performing addition using arithmetic operator\n",
        "add_ans = a+b\n",
        "print(add_ans)\n",
        "a = np.array([5, 72, 13, 100])\n",
        "b = np.array([2, 5, 10, 30])\n",
        "# Performing subtraction using arithmetic operator\n",
        "sub_ans = a-b\n",
        "print(sub_ans)\n",
        "a = np.array([5, 72, 13, 100])\n",
        "b = np.array([2, 5, 10, 30])\n",
        "# Performing multiplication using arithmetic operator\n",
        "mul_ans = a*b\n",
        "print(mul_ans)\n",
        "a = np.array([5, 72, 13, 100])\n",
        "b = np.array([2, 5, 10, 30])\n",
        "# Performing division using arithmetic operators\n",
        "div_ans = a/b\n",
        "print(div_ans)\n",
        "mod_ans = np.mod(a, b)\n",
        "print(mod_ans)\n",
        "#Performing remainder on two matrices\n",
        "rem_ans=np.remainder(a,b)\n",
        "print(rem_ans)\n",
        "# Performing power of two matrices\n",
        "pow_ans = np.power(a, b)\n",
        "print(pow_ans)\n",
        "s=np.sin(a)\n",
        "print(s)\n",
        "s=np.log(a)\n",
        "print(s)\n",
        "s=np.log2(a)\n",
        "print(s)\n",
        "s=np.exp(a)\n",
        "print(s)\n"
      ],
      "metadata": {
        "colab": {
          "base_uri": "https://localhost:8080/"
        },
        "id": "p2wO5Hvkmex4",
        "outputId": "85ea92e3-4646-40a4-e730-30cde03f7b72"
      },
      "execution_count": null,
      "outputs": [
        {
          "output_type": "stream",
          "name": "stdout",
          "text": [
            "[1 2 3 4 5]\n",
            "<class 'numpy.ndarray'>\n",
            "42\n",
            "[1 2 3 4 5]\n",
            "[[1 2 3]\n",
            " [4 5 6]]\n",
            "[[[1 2 3]\n",
            "  [4 5 6]]\n",
            "\n",
            " [[1 2 3]\n",
            "  [4 5 6]]]\n",
            "1\n",
            "Last element from 2nd dim:  10\n",
            "[2 3 4 5]\n",
            "[42  2  3  4  5]\n",
            "[1 2 3 4 5]\n",
            "[42  2  3  4  5]\n",
            "[42  2  3  4  5]\n",
            "None\n",
            "[1 2 3 4 5]\n",
            "(2, 4)\n",
            "(array([1, 3, 5, 7]),)\n",
            "[0 1 2 3]\n",
            "[  7  77  23 130]\n",
            "[ 3 67  3 70]\n",
            "[  10  360  130 3000]\n",
            "[ 2.5        14.4         1.3         3.33333333]\n",
            "[ 1  2  3 10]\n",
            "[ 1  2  3 10]\n",
            "[                 25          1934917632        137858491849\n",
            " 1152921504606846976]\n",
            "[-0.95892427  0.25382336  0.42016704 -0.50636564]\n",
            "[1.60943791 4.27666612 2.56494936 4.60517019]\n",
            "[2.32192809 6.169925   3.70043972 6.64385619]\n",
            "[1.48413159e+02 1.85867175e+31 4.42413392e+05 2.68811714e+43]\n"
          ]
        }
      ]
    }
  ]
}